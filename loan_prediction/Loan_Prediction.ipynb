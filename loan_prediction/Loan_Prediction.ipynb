{
 "cells": [
  {
   "cell_type": "markdown",
   "metadata": {},
   "source": [
    "# Loan Prediction"
   ]
  },
  {
   "cell_type": "markdown",
   "metadata": {},
   "source": [
    "Solution for https://datahack.analyticsvidhya.com/contest/practice-problem-loan-prediction-iii/\n",
    "\n",
    "TODO Feature engineering"
   ]
  },
  {
   "cell_type": "markdown",
   "metadata": {},
   "source": [
    "Step 1. Load sets: test data and train data\n",
    "switch to panda: http://akuederle.com/stop-using-numpy-loadtxt"
   ]
  },
  {
   "cell_type": "code",
   "execution_count": 1,
   "metadata": {},
   "outputs": [
    {
     "name": "stdout",
     "output_type": "stream",
     "text": [
      "shape train: (614, 12)\n",
      "shape solution: (367, 11)\n"
     ]
    },
    {
     "data": {
      "text/html": [
       "<div>\n",
       "<table border=\"1\" class=\"dataframe\">\n",
       "  <thead>\n",
       "    <tr style=\"text-align: right;\">\n",
       "      <th></th>\n",
       "      <th>ApplicantIncome</th>\n",
       "      <th>CoapplicantIncome</th>\n",
       "      <th>LoanAmount</th>\n",
       "      <th>Loan_Amount_Term</th>\n",
       "      <th>Credit_History</th>\n",
       "    </tr>\n",
       "  </thead>\n",
       "  <tbody>\n",
       "    <tr>\n",
       "      <th>count</th>\n",
       "      <td>614.000000</td>\n",
       "      <td>614.000000</td>\n",
       "      <td>592.000000</td>\n",
       "      <td>600.00000</td>\n",
       "      <td>564.000000</td>\n",
       "    </tr>\n",
       "    <tr>\n",
       "      <th>mean</th>\n",
       "      <td>5403.459283</td>\n",
       "      <td>1621.245798</td>\n",
       "      <td>146.412162</td>\n",
       "      <td>342.00000</td>\n",
       "      <td>0.842199</td>\n",
       "    </tr>\n",
       "    <tr>\n",
       "      <th>std</th>\n",
       "      <td>6109.041673</td>\n",
       "      <td>2926.248369</td>\n",
       "      <td>85.587325</td>\n",
       "      <td>65.12041</td>\n",
       "      <td>0.364878</td>\n",
       "    </tr>\n",
       "    <tr>\n",
       "      <th>min</th>\n",
       "      <td>150.000000</td>\n",
       "      <td>0.000000</td>\n",
       "      <td>9.000000</td>\n",
       "      <td>12.00000</td>\n",
       "      <td>0.000000</td>\n",
       "    </tr>\n",
       "    <tr>\n",
       "      <th>25%</th>\n",
       "      <td>2877.500000</td>\n",
       "      <td>0.000000</td>\n",
       "      <td>100.000000</td>\n",
       "      <td>360.00000</td>\n",
       "      <td>1.000000</td>\n",
       "    </tr>\n",
       "    <tr>\n",
       "      <th>50%</th>\n",
       "      <td>3812.500000</td>\n",
       "      <td>1188.500000</td>\n",
       "      <td>128.000000</td>\n",
       "      <td>360.00000</td>\n",
       "      <td>1.000000</td>\n",
       "    </tr>\n",
       "    <tr>\n",
       "      <th>75%</th>\n",
       "      <td>5795.000000</td>\n",
       "      <td>2297.250000</td>\n",
       "      <td>168.000000</td>\n",
       "      <td>360.00000</td>\n",
       "      <td>1.000000</td>\n",
       "    </tr>\n",
       "    <tr>\n",
       "      <th>max</th>\n",
       "      <td>81000.000000</td>\n",
       "      <td>41667.000000</td>\n",
       "      <td>700.000000</td>\n",
       "      <td>480.00000</td>\n",
       "      <td>1.000000</td>\n",
       "    </tr>\n",
       "  </tbody>\n",
       "</table>\n",
       "</div>"
      ],
      "text/plain": [
       "       ApplicantIncome  CoapplicantIncome  LoanAmount  Loan_Amount_Term  \\\n",
       "count       614.000000         614.000000  592.000000         600.00000   \n",
       "mean       5403.459283        1621.245798  146.412162         342.00000   \n",
       "std        6109.041673        2926.248369   85.587325          65.12041   \n",
       "min         150.000000           0.000000    9.000000          12.00000   \n",
       "25%        2877.500000           0.000000  100.000000         360.00000   \n",
       "50%        3812.500000        1188.500000  128.000000         360.00000   \n",
       "75%        5795.000000        2297.250000  168.000000         360.00000   \n",
       "max       81000.000000       41667.000000  700.000000         480.00000   \n",
       "\n",
       "       Credit_History  \n",
       "count      564.000000  \n",
       "mean         0.842199  \n",
       "std          0.364878  \n",
       "min          0.000000  \n",
       "25%          1.000000  \n",
       "50%          1.000000  \n",
       "75%          1.000000  \n",
       "max          1.000000  "
      ]
     },
     "execution_count": 1,
     "metadata": {},
     "output_type": "execute_result"
    }
   ],
   "source": [
    "#VARIABLE DESCRIPTIONS:\n",
    "#Variable\t          Description\n",
    "#Loan_ID\t                  Unique Loan ID\n",
    "#Gender\t                  Male/ Female\n",
    "#Married\t                  Applicant married (Y/N)\n",
    "#Dependents\t          Number of dependents\n",
    "#Education\t          Applicant Education (Graduate/ Under Graduate)\n",
    "#Self_Employed\t          Self employed (Y/N)\n",
    "#ApplicantIncome\t          Applicant income\n",
    "#CoapplicantIncome\t  Coapplicant income\n",
    "#LoanAmount\t          Loan amount in thousands\n",
    "#Loan_Amount_Term\t  Term of loan in months\n",
    "#Credit_History\t          credit history meets guidelines\n",
    "#Property_Area\t          Urban/ Semi Urban/ Rural\n",
    "#Loan_Status\t          Loan approved (Y/N)\n",
    "import pandas as pd\n",
    "\n",
    "# training data set\n",
    "df_train = pd.read_csv(filepath_or_buffer='data/train_file.csv', index_col=0)\n",
    "# assignment set\n",
    "df_solution = pd.read_csv(filepath_or_buffer='data/test_file.csv', index_col=0)\n",
    "\n",
    "# print structure of data\n",
    "print('shape train: ' + str(df_train.shape))\n",
    "print('shape solution: ' + str(df_solution.shape))\n",
    "df_train.head(10)\n",
    "df_train.describe()"
   ]
  },
  {
   "cell_type": "code",
   "execution_count": 2,
   "metadata": {},
   "outputs": [
    {
     "data": {
      "text/plain": [
       "Gender               2.117264\n",
       "Married              0.488599\n",
       "Dependents           2.442997\n",
       "Education            0.000000\n",
       "Self_Employed        5.211726\n",
       "ApplicantIncome      0.000000\n",
       "CoapplicantIncome    0.000000\n",
       "LoanAmount           3.583062\n",
       "Loan_Amount_Term     2.280130\n",
       "Credit_History       8.143322\n",
       "Property_Area        0.000000\n",
       "Loan_Status          0.000000\n",
       "dtype: float64"
      ]
     },
     "execution_count": 2,
     "metadata": {},
     "output_type": "execute_result"
    }
   ],
   "source": [
    "# Check missing data. Any column above 20% will be dropped. Which is none\n",
    "df_train.isnull().sum()/len(df_train)*100"
   ]
  },
  {
   "cell_type": "code",
   "execution_count": 3,
   "metadata": {},
   "outputs": [
    {
     "data": {
      "text/plain": [
       "Y    0.687296\n",
       "N    0.312704\n",
       "Name: Loan_Status, dtype: float64"
      ]
     },
     "execution_count": 3,
     "metadata": {},
     "output_type": "execute_result"
    }
   ],
   "source": [
    "df_train.Loan_Status.value_counts(normalize=True)"
   ]
  },
  {
   "cell_type": "code",
   "execution_count": 4,
   "metadata": {},
   "outputs": [
    {
     "data": {
      "text/plain": [
       "<matplotlib.axes._subplots.AxesSubplot at 0x7ff02db4a358>"
      ]
     },
     "execution_count": 4,
     "metadata": {},
     "output_type": "execute_result"
    }
   ],
   "source": [
    "df_train['LoanAmount'].hist(bins=50)"
   ]
  },
  {
   "cell_type": "code",
   "execution_count": 5,
   "metadata": {},
   "outputs": [
    {
     "data": {
      "text/plain": [
       "<matplotlib.axes._subplots.AxesSubplot at 0x7ff02d9d9c50>"
      ]
     },
     "execution_count": 5,
     "metadata": {},
     "output_type": "execute_result"
    },
    {
     "data": {
      "image/png": "[encoded data removed]",
      "text/plain": [
       "<matplotlib.figure.Figure at 0x7ff02b18bcc0>"
      ]
     },
     "metadata": {},
     "output_type": "display_data"
    }
   ],
   "source": [
    "df_train['ApplicantIncome'].hist(bins=50)"
   ]
  },
  {
   "cell_type": "code",
   "execution_count": 6,
   "metadata": {},
   "outputs": [
    {
     "data": {
      "text/plain": [
       "<matplotlib.axes._subplots.AxesSubplot at 0x7ff02b07aba8>"
      ]
     },
     "execution_count": 6,
     "metadata": {},
     "output_type": "execute_result"
    },
    {
     "data": {
      "image/png": "[encoded data removed]",
      "text/plain": [
       "<matplotlib.figure.Figure at 0x7ff02b139668>"
      ]
     },
     "metadata": {},
     "output_type": "display_data"
    }
   ],
   "source": [
    "df_train['CoapplicantIncome'].hist(bins=50)"
   ]
  },
  {
   "cell_type": "code",
   "execution_count": 7,
   "metadata": {},
   "outputs": [
    {
     "data": {
      "text/plain": [
       "Education         \n",
       "Graduate      0.10     2362.70\n",
       "              0.25     2998.75\n",
       "              0.50     4000.00\n",
       "              1.00    81000.00\n",
       "Not Graduate  0.10     1995.10\n",
       "              0.25     2583.00\n",
       "              0.50     3357.50\n",
       "              1.00    18165.00\n",
       "Name: ApplicantIncome, dtype: float64"
      ]
     },
     "execution_count": 7,
     "metadata": {},
     "output_type": "execute_result"
    },
    {
     "data": {
      "image/png": "[encoded data removed]",
      "text/plain": [
       "<matplotlib.figure.Figure at 0x7ff02aeac278>"
      ]
     },
     "metadata": {},
     "output_type": "display_data"
    }
   ],
   "source": [
    "df_train.hist(column='ApplicantIncome', by = 'Education')\n",
    "df_train.groupby(['Education'])['ApplicantIncome'].quantile([.1, .25, .5, 1])"
   ]
  },
  {
   "cell_type": "code",
   "execution_count": 8,
   "metadata": {},
   "outputs": [
    {
     "data": {
      "text/plain": [
       "Credit_History  Loan_Status\n",
       "0.0             N              0.921348\n",
       "                Y              0.078652\n",
       "1.0             Y              0.795789\n",
       "                N              0.204211\n",
       "Name: Loan_Status, dtype: float64"
      ]
     },
     "execution_count": 8,
     "metadata": {},
     "output_type": "execute_result"
    },
    {
     "data": {
      "image/png": "[encoded data removed]",
      "text/plain": [
       "<matplotlib.figure.Figure at 0x7ff02ad40470>"
      ]
     },
     "metadata": {},
     "output_type": "display_data"
    }
   ],
   "source": [
    "#import math\n",
    "#def creditHistoryAsInt(x):\n",
    "#    if math.isnan(x):\n",
    "#        return 2\n",
    "#    elif float(x)<0.5:\n",
    "#        return 0\n",
    "#    else:\n",
    "#        return 1   \n",
    "#temp2 = df_train['Credit_History'].apply(creditHistoryAsInt)\n",
    "#print(temp2)\n",
    "temp = pd.crosstab(df_train['Credit_History'], df_train['Loan_Status'])\n",
    "temp.plot(kind='bar', stacked=True, color=['red', 'blue'], grid=False)\n",
    "df_train.groupby(['Credit_History'])['Loan_Status'].value_counts(normalize=True)"
   ]
  },
  {
   "cell_type": "code",
   "execution_count": 9,
   "metadata": {},
   "outputs": [
    {
     "data": {
      "text/plain": [
       "<matplotlib.axes._subplots.AxesSubplot at 0x7ff02ac35198>"
      ]
     },
     "execution_count": 9,
     "metadata": {},
     "output_type": "execute_result"
    },
    {
     "data": {
      "image/png": "[encoded data removed]",
      "text/plain": [
       "<matplotlib.figure.Figure at 0x7ff02ac35e10>"
      ]
     },
     "metadata": {},
     "output_type": "display_data"
    }
   ],
   "source": [
    "#Credit History & Gender\n",
    "df_train['credit_gender'] = pd.Categorical(df_train['Credit_History'].astype(str)+\"_\"+ df_train['Gender'])\n",
    "temp1 = pd.crosstab(df_train['credit_gender'], df_train['Loan_Status'])\n",
    "temp1.plot(kind='bar', stacked=True, color=['red', 'blue'], grid=False)"
   ]
  },
  {
   "cell_type": "code",
   "execution_count": 10,
   "metadata": {},
   "outputs": [],
   "source": [
    "# Use credit history as solution (not defined is treated as yes)\n",
    "import math\n",
    "df_test = pd.read_csv(filepath_or_buffer='data/test_file.csv', index_col=0)\n",
    "\n",
    "def creditHistoryAsSolution(x):\n",
    "    if math.isnan(x):\n",
    "        return 'Y'\n",
    "    elif float(x)<0.5:\n",
    "        return 'N'\n",
    "    else:\n",
    "        return 'Y'\n",
    "    \n",
    "solution_df = pd.DataFrame(({'Loan_ID':df_test.index,\n",
    "                             'Loan_Status':df_test['Credit_History'].apply(creditHistoryAsSolution)}))\n",
    "    \n",
    "solution_df.to_csv(path_or_buf='solution_credit_history.csv', index=False)\n",
    "# gives a score of 0.777777777777778"
   ]
  },
  {
   "cell_type": "code",
   "execution_count": 11,
   "metadata": {},
   "outputs": [
    {
     "data": {
      "text/plain": [
       "<matplotlib.axes._subplots.AxesSubplot at 0x7ff02266bba8>"
      ]
     },
     "execution_count": 11,
     "metadata": {},
     "output_type": "execute_result"
    },
    {
     "data": {
      "image/png": "[encoded data removed]",
      "text/plain": [
       "<matplotlib.figure.Figure at 0x7ff02264ff28>"
      ]
     },
     "metadata": {},
     "output_type": "display_data"
    }
   ],
   "source": [
    "import seaborn as sns\n",
    "sns.set(style=\"whitegrid\", color_codes=True)\n",
    "sns.boxplot(x=\"Education\", y=\"LoanAmount\", hue=\"Loan_Status\", data=df_train)"
   ]
  },
  {
   "cell_type": "code",
   "execution_count": 12,
   "metadata": {},
   "outputs": [
    {
     "data": {
      "text/plain": [
       "Property_Area  Loan_Status\n",
       "Rural          Y              0.614525\n",
       "               N              0.385475\n",
       "Semiurban      Y              0.768240\n",
       "               N              0.231760\n",
       "Urban          Y              0.658416\n",
       "               N              0.341584\n",
       "Name: Loan_Status, dtype: float64"
      ]
     },
     "execution_count": 12,
     "metadata": {},
     "output_type": "execute_result"
    }
   ],
   "source": [
    "df_train.groupby(['Property_Area'])['Loan_Status'].value_counts(normalize=True)"
   ]
  },
  {
   "cell_type": "code",
   "execution_count": 13,
   "metadata": {},
   "outputs": [],
   "source": [
    "# Encode labels to integers\n",
    "# from sklearn.preprocessing import LabelEncoder\n",
    "# var_mod = ['Gender', 'Married', 'Dependents', 'Education', 'Self_Employed', 'Property_Area',\n",
    "#           'Credit_History','totalincome', 'pay_back', 'Loan_Amount_Term', 'LoanAmount', 'Loan_Status']\n",
    "# labelEncoder = LabelEncoder()\n",
    "# for i in var_mod:\n",
    "#    print(str(i))\n",
    "#    df_train[i] = labelEncoder.fit_transform(df_train[i])\n",
    "# df_train.dtypes"
   ]
  },
  {
   "cell_type": "code",
   "execution_count": 14,
   "metadata": {},
   "outputs": [],
   "source": [
    "# Efter data convert\n",
    "# import numpy as np\n",
    "# import seaborn as sns\n",
    "# import matplotlib.pyplot as plt\n",
    "# sns.set(color_codes=True)\n",
    "# \n",
    "# def correlationPlot(X, yAxis):\n",
    "#    sns.regplot(y=yAxis, x=\"Loan_Status\", data=X);\n",
    "#     \n",
    "# correlationPlot(df_train, 'LoanAmount')"
   ]
  },
  {
   "cell_type": "code",
   "execution_count": 15,
   "metadata": {},
   "outputs": [
    {
     "name": "stdout",
     "output_type": "stream",
     "text": [
      "shape solution: (367, 15)\n"
     ]
    },
    {
     "data": {
      "text/plain": [
       "Gender               1.493802e-01\n",
       "Married              2.269317e-01\n",
       "Dependents           1.019339e+00\n",
       "Education            1.708902e-01\n",
       "Self_Employed        1.159035e-01\n",
       "ApplicantIncome      3.732039e+07\n",
       "CoapplicantIncome    8.562930e+06\n",
       "LoanAmount           7.074027e+09\n",
       "Loan_Amount_Term     4.151048e+03\n",
       "Credit_History       2.227126e-01\n",
       "Property_Area        6.201280e-01\n",
       "Loan_Status          2.152707e-01\n",
       "credit_gender        1.291592e+00\n",
       "loanamt_log          2.460118e-01\n",
       "totalincome          4.171434e+07\n",
       "pay_back             7.581465e+01\n",
       "totalincome_log      2.971357e-01\n",
       "dtype: float64"
      ]
     },
     "execution_count": 15,
     "metadata": {},
     "output_type": "execute_result"
    }
   ],
   "source": [
    "import matplotlib.pyplot as plt\n",
    "import numpy as np\n",
    "import math\n",
    "\n",
    "def convertNaNtoZero(x):\n",
    "    if math.isnan(x):\n",
    "        return 0\n",
    "    else:\n",
    "        return x\n",
    "    \n",
    "def convetLoan_Amount_Term(x):\n",
    "    if math.isnan(x):\n",
    "        return 480\n",
    "    else:\n",
    "        return x\n",
    "\n",
    "def creditHistoryAsInt(x):\n",
    "    if math.isnan(x):\n",
    "        return 2\n",
    "    elif float(x)<0.5:\n",
    "        return 0\n",
    "    else:\n",
    "        return 1\n",
    "\n",
    "def convertDataFrameDataCleaning(x):\n",
    "    # Impute missing categorical data with most frequent\n",
    "    x['Gender'] = x['Gender'].fillna(x['Gender'].value_counts().index[0])\n",
    "    x['Married'] = x['Married'].fillna(x['Married'].value_counts().index[0])\n",
    "    x['Dependents'] = x['Dependents'].fillna(x['Dependents'].value_counts().index[0])\n",
    "    x['Self_Employed'] = x['Self_Employed'].fillna(x['Self_Employed'].value_counts().index[0])\n",
    "    \n",
    "    # Impute missing categorical data with code for missing data\n",
    "    #x['Gender'] = x['Gender'].fillna(3)\n",
    "    #x['Married'] = x['Married'].fillna(3)\n",
    "    #x['Dependents'] = x['Dependents'].fillna(3)\n",
    "    #x['Self_Employed'] = x['Self_Employed'].fillna(3)\n",
    "    \n",
    "    # Impute numerical data with median\n",
    "    x['Loan_Amount_Term'] = x['Loan_Amount_Term'].fillna(x['Loan_Amount_Term'].median())\n",
    "    x['LoanAmount'] = x['LoanAmount'].fillna(x['LoanAmount'].median())\n",
    "    x['loanamt_log'] = np.log(x['LoanAmount'])\n",
    "    # x['LoanAmount'] = x['LoanAmount'].fillna(0)\n",
    "    \n",
    "    return x\n",
    "    \n",
    "    \n",
    "def convertDataFrame(x):\n",
    "    x['Gender'] = x['Gender'].astype('category')\n",
    "    x['Married'] = x['Married'].astype('category')\n",
    "    x['Dependents'] = x['Dependents'].astype('category')\n",
    "    x['Education'] = x['Education'].astype('category')\n",
    "    x['Self_Employed'] = x['Self_Employed'].astype('category')\n",
    "    x['Property_Area'] = x['Property_Area'].astype('category')\n",
    "    cat_columns = x.select_dtypes(['category']).columns\n",
    "    x[cat_columns] = x[cat_columns].apply(lambda x: x.cat.codes)\n",
    "    \n",
    "    x['Credit_History'] = x['Credit_History'].apply(creditHistoryAsInt)\n",
    "    # convert NaN to 1  x['Credit_History'] = x['Credit_History'].fillna(x['Credit_History'].value_counts().index[0])\n",
    "    \n",
    "    x['LoanAmount'] = x['LoanAmount'].apply(convertNaNtoZero)\n",
    "    x['Loan_Amount_Term'] = x['Loan_Amount_Term'].apply(convertNaNtoZero)\n",
    "    \n",
    "    x['LoanAmount'] = x['LoanAmount'] * 1000\n",
    "    \n",
    "    # new features\n",
    "    x['totalincome'] = x['ApplicantIncome'] + x['CoapplicantIncome']\n",
    "    x['pay_back'] = x['LoanAmount'] / x['totalincome']\n",
    "    \n",
    "    # logaritm\n",
    "    x['totalincome_log'] = np.log(x.totalincome)\n",
    "    return x\n",
    "\n",
    "def convertLoanStatus(x):\n",
    "    x['Loan_Status'] = x['Loan_Status'].astype('category')\n",
    "    cat_columns = x.select_dtypes(['category']).columns\n",
    "    x[cat_columns] = x[cat_columns].apply(lambda x: x.cat.codes)\n",
    "    return x\n",
    "\n",
    "\n",
    "df_train = convertDataFrameDataCleaning(df_train)\n",
    "df_train = convertDataFrame(df_train)\n",
    "df_train = convertLoanStatus(df_train)\n",
    "df_solution = convertDataFrameDataCleaning(df_solution)\n",
    "df_solution = convertDataFrame(df_solution)\n",
    "\n",
    "print('shape solution: ' + str(df_solution.shape))\n",
    "\n",
    "# Check variance\n",
    "df_train.var()"
   ]
  },
  {
   "cell_type": "code",
   "execution_count": 16,
   "metadata": {},
   "outputs": [
    {
     "data": {
      "text/html": [
       "<div>\n",
       "<table border=\"1\" class=\"dataframe\">\n",
       "  <thead>\n",
       "    <tr style=\"text-align: right;\">\n",
       "      <th></th>\n",
       "      <th>Gender</th>\n",
       "      <th>Married</th>\n",
       "      <th>Dependents</th>\n",
       "      <th>Education</th>\n",
       "      <th>Self_Employed</th>\n",
       "      <th>ApplicantIncome</th>\n",
       "      <th>CoapplicantIncome</th>\n",
       "      <th>LoanAmount</th>\n",
       "      <th>Loan_Amount_Term</th>\n",
       "      <th>Credit_History</th>\n",
       "      <th>Property_Area</th>\n",
       "      <th>Loan_Status</th>\n",
       "      <th>credit_gender</th>\n",
       "      <th>loanamt_log</th>\n",
       "      <th>totalincome</th>\n",
       "      <th>pay_back</th>\n",
       "      <th>totalincome_log</th>\n",
       "    </tr>\n",
       "  </thead>\n",
       "  <tbody>\n",
       "    <tr>\n",
       "      <th>Gender</th>\n",
       "      <td>1.000000</td>\n",
       "      <td>0.364569</td>\n",
       "      <td>0.172914</td>\n",
       "      <td>0.045364</td>\n",
       "      <td>-0.000525</td>\n",
       "      <td>0.058809</td>\n",
       "      <td>0.082912</td>\n",
       "      <td>0.106904</td>\n",
       "      <td>-0.074030</td>\n",
       "      <td>-0.009963</td>\n",
       "      <td>-0.025752</td>\n",
       "      <td>0.017987</td>\n",
       "      <td>0.299290</td>\n",
       "      <td>0.143388</td>\n",
       "      <td>0.093191</td>\n",
       "      <td>-0.104615</td>\n",
       "      <td>0.167285</td>\n",
       "    </tr>\n",
       "    <tr>\n",
       "      <th>Married</th>\n",
       "      <td>0.364569</td>\n",
       "      <td>1.000000</td>\n",
       "      <td>0.334216</td>\n",
       "      <td>0.012304</td>\n",
       "      <td>0.004489</td>\n",
       "      <td>0.051708</td>\n",
       "      <td>0.075948</td>\n",
       "      <td>0.146546</td>\n",
       "      <td>-0.100912</td>\n",
       "      <td>0.032441</td>\n",
       "      <td>0.004257</td>\n",
       "      <td>0.091478</td>\n",
       "      <td>0.136910</td>\n",
       "      <td>0.179802</td>\n",
       "      <td>0.083319</td>\n",
       "      <td>-0.013898</td>\n",
       "      <td>0.151527</td>\n",
       "    </tr>\n",
       "    <tr>\n",
       "      <th>Dependents</th>\n",
       "      <td>0.172914</td>\n",
       "      <td>0.334216</td>\n",
       "      <td>1.000000</td>\n",
       "      <td>0.055752</td>\n",
       "      <td>0.056798</td>\n",
       "      <td>0.118202</td>\n",
       "      <td>0.030430</td>\n",
       "      <td>0.163103</td>\n",
       "      <td>-0.103864</td>\n",
       "      <td>-0.044415</td>\n",
       "      <td>-0.000244</td>\n",
       "      <td>0.010118</td>\n",
       "      <td>0.004469</td>\n",
       "      <td>0.156737</td>\n",
       "      <td>0.125590</td>\n",
       "      <td>0.056043</td>\n",
       "      <td>0.112812</td>\n",
       "    </tr>\n",
       "    <tr>\n",
       "      <th>Education</th>\n",
       "      <td>0.045364</td>\n",
       "      <td>0.012304</td>\n",
       "      <td>0.055752</td>\n",
       "      <td>1.000000</td>\n",
       "      <td>-0.010383</td>\n",
       "      <td>-0.140760</td>\n",
       "      <td>-0.062290</td>\n",
       "      <td>-0.168759</td>\n",
       "      <td>-0.073928</td>\n",
       "      <td>-0.037534</td>\n",
       "      <td>-0.065243</td>\n",
       "      <td>-0.085884</td>\n",
       "      <td>0.013686</td>\n",
       "      <td>-0.145885</td>\n",
       "      <td>-0.161362</td>\n",
       "      <td>0.075202</td>\n",
       "      <td>-0.204861</td>\n",
       "    </tr>\n",
       "    <tr>\n",
       "      <th>Self_Employed</th>\n",
       "      <td>-0.000525</td>\n",
       "      <td>0.004489</td>\n",
       "      <td>0.056798</td>\n",
       "      <td>-0.010383</td>\n",
       "      <td>1.000000</td>\n",
       "      <td>0.127180</td>\n",
       "      <td>-0.016100</td>\n",
       "      <td>0.115100</td>\n",
       "      <td>-0.033739</td>\n",
       "      <td>0.002117</td>\n",
       "      <td>-0.030860</td>\n",
       "      <td>-0.003700</td>\n",
       "      <td>-0.047285</td>\n",
       "      <td>0.109677</td>\n",
       "      <td>0.113000</td>\n",
       "      <td>-0.072657</td>\n",
       "      <td>0.176709</td>\n",
       "    </tr>\n",
       "    <tr>\n",
       "      <th>ApplicantIncome</th>\n",
       "      <td>0.058809</td>\n",
       "      <td>0.051708</td>\n",
       "      <td>0.118202</td>\n",
       "      <td>-0.140760</td>\n",
       "      <td>0.127180</td>\n",
       "      <td>1.000000</td>\n",
       "      <td>-0.116605</td>\n",
       "      <td>0.565181</td>\n",
       "      <td>-0.046531</td>\n",
       "      <td>-0.033996</td>\n",
       "      <td>-0.009500</td>\n",
       "      <td>-0.004710</td>\n",
       "      <td>-0.070146</td>\n",
       "      <td>0.435392</td>\n",
       "      <td>0.893037</td>\n",
       "      <td>-0.317468</td>\n",
       "      <td>0.717829</td>\n",
       "    </tr>\n",
       "    <tr>\n",
       "      <th>CoapplicantIncome</th>\n",
       "      <td>0.082912</td>\n",
       "      <td>0.075948</td>\n",
       "      <td>0.030430</td>\n",
       "      <td>-0.062290</td>\n",
       "      <td>-0.016100</td>\n",
       "      <td>-0.116605</td>\n",
       "      <td>1.000000</td>\n",
       "      <td>0.189218</td>\n",
       "      <td>-0.059383</td>\n",
       "      <td>0.068806</td>\n",
       "      <td>0.010522</td>\n",
       "      <td>-0.059187</td>\n",
       "      <td>0.088007</td>\n",
       "      <td>0.206330</td>\n",
       "      <td>0.342781</td>\n",
       "      <td>-0.201101</td>\n",
       "      <td>0.383827</td>\n",
       "    </tr>\n",
       "    <tr>\n",
       "      <th>LoanAmount</th>\n",
       "      <td>0.106904</td>\n",
       "      <td>0.146546</td>\n",
       "      <td>0.163103</td>\n",
       "      <td>-0.168759</td>\n",
       "      <td>0.115100</td>\n",
       "      <td>0.565181</td>\n",
       "      <td>0.189218</td>\n",
       "      <td>1.000000</td>\n",
       "      <td>0.036960</td>\n",
       "      <td>0.029688</td>\n",
       "      <td>-0.046632</td>\n",
       "      <td>-0.033214</td>\n",
       "      <td>0.002851</td>\n",
       "      <td>0.895708</td>\n",
       "      <td>0.620316</td>\n",
       "      <td>0.152830</td>\n",
       "      <td>0.687825</td>\n",
       "    </tr>\n",
       "    <tr>\n",
       "      <th>Loan_Amount_Term</th>\n",
       "      <td>-0.074030</td>\n",
       "      <td>-0.100912</td>\n",
       "      <td>-0.103864</td>\n",
       "      <td>-0.073928</td>\n",
       "      <td>-0.033739</td>\n",
       "      <td>-0.046531</td>\n",
       "      <td>-0.059383</td>\n",
       "      <td>0.036960</td>\n",
       "      <td>1.000000</td>\n",
       "      <td>-0.009121</td>\n",
       "      <td>-0.076120</td>\n",
       "      <td>-0.022549</td>\n",
       "      <td>-0.030173</td>\n",
       "      <td>0.085353</td>\n",
       "      <td>-0.070917</td>\n",
       "      <td>0.166304</td>\n",
       "      <td>-0.056044</td>\n",
       "    </tr>\n",
       "    <tr>\n",
       "      <th>Credit_History</th>\n",
       "      <td>-0.009963</td>\n",
       "      <td>0.032441</td>\n",
       "      <td>-0.044415</td>\n",
       "      <td>-0.037534</td>\n",
       "      <td>0.002117</td>\n",
       "      <td>-0.033996</td>\n",
       "      <td>0.068806</td>\n",
       "      <td>0.029688</td>\n",
       "      <td>-0.009121</td>\n",
       "      <td>1.000000</td>\n",
       "      <td>0.019582</td>\n",
       "      <td>0.423212</td>\n",
       "      <td>0.817838</td>\n",
       "      <td>0.013020</td>\n",
       "      <td>-0.000982</td>\n",
       "      <td>-0.010980</td>\n",
       "      <td>0.023942</td>\n",
       "    </tr>\n",
       "    <tr>\n",
       "      <th>Property_Area</th>\n",
       "      <td>-0.025752</td>\n",
       "      <td>0.004257</td>\n",
       "      <td>-0.000244</td>\n",
       "      <td>-0.065243</td>\n",
       "      <td>-0.030860</td>\n",
       "      <td>-0.009500</td>\n",
       "      <td>0.010522</td>\n",
       "      <td>-0.046632</td>\n",
       "      <td>-0.076120</td>\n",
       "      <td>0.019582</td>\n",
       "      <td>1.000000</td>\n",
       "      <td>0.032112</td>\n",
       "      <td>0.014428</td>\n",
       "      <td>-0.095250</td>\n",
       "      <td>-0.004218</td>\n",
       "      <td>-0.032972</td>\n",
       "      <td>-0.046246</td>\n",
       "    </tr>\n",
       "    <tr>\n",
       "      <th>Loan_Status</th>\n",
       "      <td>0.017987</td>\n",
       "      <td>0.091478</td>\n",
       "      <td>0.010118</td>\n",
       "      <td>-0.085884</td>\n",
       "      <td>-0.003700</td>\n",
       "      <td>-0.004710</td>\n",
       "      <td>-0.059187</td>\n",
       "      <td>-0.033214</td>\n",
       "      <td>-0.022549</td>\n",
       "      <td>0.423212</td>\n",
       "      <td>0.032112</td>\n",
       "      <td>1.000000</td>\n",
       "      <td>0.354471</td>\n",
       "      <td>-0.037997</td>\n",
       "      <td>-0.031271</td>\n",
       "      <td>-0.086141</td>\n",
       "      <td>0.007240</td>\n",
       "    </tr>\n",
       "    <tr>\n",
       "      <th>credit_gender</th>\n",
       "      <td>0.299290</td>\n",
       "      <td>0.136910</td>\n",
       "      <td>0.004469</td>\n",
       "      <td>0.013686</td>\n",
       "      <td>-0.047285</td>\n",
       "      <td>-0.070146</td>\n",
       "      <td>0.088007</td>\n",
       "      <td>0.002851</td>\n",
       "      <td>-0.030173</td>\n",
       "      <td>0.817838</td>\n",
       "      <td>0.014428</td>\n",
       "      <td>0.354471</td>\n",
       "      <td>1.000000</td>\n",
       "      <td>0.014094</td>\n",
       "      <td>-0.026475</td>\n",
       "      <td>-0.034000</td>\n",
       "      <td>0.026841</td>\n",
       "    </tr>\n",
       "    <tr>\n",
       "      <th>loanamt_log</th>\n",
       "      <td>0.143388</td>\n",
       "      <td>0.179802</td>\n",
       "      <td>0.156737</td>\n",
       "      <td>-0.145885</td>\n",
       "      <td>0.109677</td>\n",
       "      <td>0.435392</td>\n",
       "      <td>0.206330</td>\n",
       "      <td>0.895708</td>\n",
       "      <td>0.085353</td>\n",
       "      <td>0.013020</td>\n",
       "      <td>-0.095250</td>\n",
       "      <td>-0.037997</td>\n",
       "      <td>0.014094</td>\n",
       "      <td>1.000000</td>\n",
       "      <td>0.505306</td>\n",
       "      <td>0.273653</td>\n",
       "      <td>0.659319</td>\n",
       "    </tr>\n",
       "    <tr>\n",
       "      <th>totalincome</th>\n",
       "      <td>0.093191</td>\n",
       "      <td>0.083319</td>\n",
       "      <td>0.125590</td>\n",
       "      <td>-0.161362</td>\n",
       "      <td>0.113000</td>\n",
       "      <td>0.893037</td>\n",
       "      <td>0.342781</td>\n",
       "      <td>0.620316</td>\n",
       "      <td>-0.070917</td>\n",
       "      <td>-0.000982</td>\n",
       "      <td>-0.004218</td>\n",
       "      <td>-0.031271</td>\n",
       "      <td>-0.026475</td>\n",
       "      <td>0.505306</td>\n",
       "      <td>1.000000</td>\n",
       "      <td>-0.391396</td>\n",
       "      <td>0.852873</td>\n",
       "    </tr>\n",
       "    <tr>\n",
       "      <th>pay_back</th>\n",
       "      <td>-0.104615</td>\n",
       "      <td>-0.013898</td>\n",
       "      <td>0.056043</td>\n",
       "      <td>0.075202</td>\n",
       "      <td>-0.072657</td>\n",
       "      <td>-0.317468</td>\n",
       "      <td>-0.201101</td>\n",
       "      <td>0.152830</td>\n",
       "      <td>0.166304</td>\n",
       "      <td>-0.010980</td>\n",
       "      <td>-0.032972</td>\n",
       "      <td>-0.086141</td>\n",
       "      <td>-0.034000</td>\n",
       "      <td>0.273653</td>\n",
       "      <td>-0.391396</td>\n",
       "      <td>1.000000</td>\n",
       "      <td>-0.475146</td>\n",
       "    </tr>\n",
       "    <tr>\n",
       "      <th>totalincome_log</th>\n",
       "      <td>0.167285</td>\n",
       "      <td>0.151527</td>\n",
       "      <td>0.112812</td>\n",
       "      <td>-0.204861</td>\n",
       "      <td>0.176709</td>\n",
       "      <td>0.717829</td>\n",
       "      <td>0.383827</td>\n",
       "      <td>0.687825</td>\n",
       "      <td>-0.056044</td>\n",
       "      <td>0.023942</td>\n",
       "      <td>-0.046246</td>\n",
       "      <td>0.007240</td>\n",
       "      <td>0.026841</td>\n",
       "      <td>0.659319</td>\n",
       "      <td>0.852873</td>\n",
       "      <td>-0.475146</td>\n",
       "      <td>1.000000</td>\n",
       "    </tr>\n",
       "  </tbody>\n",
       "</table>\n",
       "</div>"
      ],
      "text/plain": [
       "                     Gender   Married  Dependents  Education  Self_Employed  \\\n",
       "Gender             1.000000  0.364569    0.172914   0.045364      -0.000525   \n",
       "Married            0.364569  1.000000    0.334216   0.012304       0.004489   \n",
       "Dependents         0.172914  0.334216    1.000000   0.055752       0.056798   \n",
       "Education          0.045364  0.012304    0.055752   1.000000      -0.010383   \n",
       "Self_Employed     -0.000525  0.004489    0.056798  -0.010383       1.000000   \n",
       "ApplicantIncome    0.058809  0.051708    0.118202  -0.140760       0.127180   \n",
       "CoapplicantIncome  0.082912  0.075948    0.030430  -0.062290      -0.016100   \n",
       "LoanAmount         0.106904  0.146546    0.163103  -0.168759       0.115100   \n",
       "Loan_Amount_Term  -0.074030 -0.100912   -0.103864  -0.073928      -0.033739   \n",
       "Credit_History    -0.009963  0.032441   -0.044415  -0.037534       0.002117   \n",
       "Property_Area     -0.025752  0.004257   -0.000244  -0.065243      -0.030860   \n",
       "Loan_Status        0.017987  0.091478    0.010118  -0.085884      -0.003700   \n",
       "credit_gender      0.299290  0.136910    0.004469   0.013686      -0.047285   \n",
       "loanamt_log        0.143388  0.179802    0.156737  -0.145885       0.109677   \n",
       "totalincome        0.093191  0.083319    0.125590  -0.161362       0.113000   \n",
       "pay_back          -0.104615 -0.013898    0.056043   0.075202      -0.072657   \n",
       "totalincome_log    0.167285  0.151527    0.112812  -0.204861       0.176709   \n",
       "\n",
       "                   ApplicantIncome  CoapplicantIncome  LoanAmount  \\\n",
       "Gender                    0.058809           0.082912    0.106904   \n",
       "Married                   0.051708           0.075948    0.146546   \n",
       "Dependents                0.118202           0.030430    0.163103   \n",
       "Education                -0.140760          -0.062290   -0.168759   \n",
       "Self_Employed             0.127180          -0.016100    0.115100   \n",
       "ApplicantIncome           1.000000          -0.116605    0.565181   \n",
       "CoapplicantIncome        -0.116605           1.000000    0.189218   \n",
       "LoanAmount                0.565181           0.189218    1.000000   \n",
       "Loan_Amount_Term         -0.046531          -0.059383    0.036960   \n",
       "Credit_History           -0.033996           0.068806    0.029688   \n",
       "Property_Area            -0.009500           0.010522   -0.046632   \n",
       "Loan_Status              -0.004710          -0.059187   -0.033214   \n",
       "credit_gender            -0.070146           0.088007    0.002851   \n",
       "loanamt_log               0.435392           0.206330    0.895708   \n",
       "totalincome               0.893037           0.342781    0.620316   \n",
       "pay_back                 -0.317468          -0.201101    0.152830   \n",
       "totalincome_log           0.717829           0.383827    0.687825   \n",
       "\n",
       "                   Loan_Amount_Term  Credit_History  Property_Area  \\\n",
       "Gender                    -0.074030       -0.009963      -0.025752   \n",
       "Married                   -0.100912        0.032441       0.004257   \n",
       "Dependents                -0.103864       -0.044415      -0.000244   \n",
       "Education                 -0.073928       -0.037534      -0.065243   \n",
       "Self_Employed             -0.033739        0.002117      -0.030860   \n",
       "ApplicantIncome           -0.046531       -0.033996      -0.009500   \n",
       "CoapplicantIncome         -0.059383        0.068806       0.010522   \n",
       "LoanAmount                 0.036960        0.029688      -0.046632   \n",
       "Loan_Amount_Term           1.000000       -0.009121      -0.076120   \n",
       "Credit_History            -0.009121        1.000000       0.019582   \n",
       "Property_Area             -0.076120        0.019582       1.000000   \n",
       "Loan_Status               -0.022549        0.423212       0.032112   \n",
       "credit_gender             -0.030173        0.817838       0.014428   \n",
       "loanamt_log                0.085353        0.013020      -0.095250   \n",
       "totalincome               -0.070917       -0.000982      -0.004218   \n",
       "pay_back                   0.166304       -0.010980      -0.032972   \n",
       "totalincome_log           -0.056044        0.023942      -0.046246   \n",
       "\n",
       "                   Loan_Status  credit_gender  loanamt_log  totalincome  \\\n",
       "Gender                0.017987       0.299290     0.143388     0.093191   \n",
       "Married               0.091478       0.136910     0.179802     0.083319   \n",
       "Dependents            0.010118       0.004469     0.156737     0.125590   \n",
       "Education            -0.085884       0.013686    -0.145885    -0.161362   \n",
       "Self_Employed        -0.003700      -0.047285     0.109677     0.113000   \n",
       "ApplicantIncome      -0.004710      -0.070146     0.435392     0.893037   \n",
       "CoapplicantIncome    -0.059187       0.088007     0.206330     0.342781   \n",
       "LoanAmount           -0.033214       0.002851     0.895708     0.620316   \n",
       "Loan_Amount_Term     -0.022549      -0.030173     0.085353    -0.070917   \n",
       "Credit_History        0.423212       0.817838     0.013020    -0.000982   \n",
       "Property_Area         0.032112       0.014428    -0.095250    -0.004218   \n",
       "Loan_Status           1.000000       0.354471    -0.037997    -0.031271   \n",
       "credit_gender         0.354471       1.000000     0.014094    -0.026475   \n",
       "loanamt_log          -0.037997       0.014094     1.000000     0.505306   \n",
       "totalincome          -0.031271      -0.026475     0.505306     1.000000   \n",
       "pay_back             -0.086141      -0.034000     0.273653    -0.391396   \n",
       "totalincome_log       0.007240       0.026841     0.659319     0.852873   \n",
       "\n",
       "                   pay_back  totalincome_log  \n",
       "Gender            -0.104615         0.167285  \n",
       "Married           -0.013898         0.151527  \n",
       "Dependents         0.056043         0.112812  \n",
       "Education          0.075202        -0.204861  \n",
       "Self_Employed     -0.072657         0.176709  \n",
       "ApplicantIncome   -0.317468         0.717829  \n",
       "CoapplicantIncome -0.201101         0.383827  \n",
       "LoanAmount         0.152830         0.687825  \n",
       "Loan_Amount_Term   0.166304        -0.056044  \n",
       "Credit_History    -0.010980         0.023942  \n",
       "Property_Area     -0.032972        -0.046246  \n",
       "Loan_Status       -0.086141         0.007240  \n",
       "credit_gender     -0.034000         0.026841  \n",
       "loanamt_log        0.273653         0.659319  \n",
       "totalincome       -0.391396         0.852873  \n",
       "pay_back           1.000000        -0.475146  \n",
       "totalincome_log   -0.475146         1.000000  "
      ]
     },
     "execution_count": 16,
     "metadata": {},
     "output_type": "execute_result"
    }
   ],
   "source": [
    "# Check correlation\n",
    "df_train.corr()"
   ]
  },
  {
   "cell_type": "code",
   "execution_count": 17,
   "metadata": {},
   "outputs": [
    {
     "data": {
      "text/plain": [
       "<matplotlib.axes._subplots.AxesSubplot at 0x7ff0220eb080>"
      ]
     },
     "execution_count": 17,
     "metadata": {},
     "output_type": "execute_result"
    },
    {
     "data": {
      "image/png": "[encoded data removed]",
      "text/plain": [
       "<matplotlib.figure.Figure at 0x7ff0220af898>"
      ]
     },
     "metadata": {},
     "output_type": "display_data"
    }
   ],
   "source": [
    "import seaborn as sns\n",
    "sns.heatmap(df_train.corr())"
   ]
  },
  {
   "cell_type": "code",
   "execution_count": 18,
   "metadata": {},
   "outputs": [
    {
     "data": {
      "text/plain": [
       "<matplotlib.axes._subplots.AxesSubplot at 0x7ff021fcdb70>"
      ]
     },
     "execution_count": 18,
     "metadata": {},
     "output_type": "execute_result"
    },
    {
     "data": {
      "image/png": "[encoded data removed]",
      "text/plain": [
       "<matplotlib.figure.Figure at 0x7ff021f66c88>"
      ]
     },
     "metadata": {},
     "output_type": "display_data"
    }
   ],
   "source": [
    "df_train['pay_back'].hist(bins=50)"
   ]
  },
  {
   "cell_type": "code",
   "execution_count": 19,
   "metadata": {},
   "outputs": [
    {
     "data": {
      "text/plain": [
       "<matplotlib.axes._subplots.AxesSubplot at 0x7ff021dfe550>"
      ]
     },
     "execution_count": 19,
     "metadata": {},
     "output_type": "execute_result"
    },
    {
     "data": {
      "image/png": "[encoded data removed]",
      "text/plain": [
       "<matplotlib.figure.Figure at 0x7ff021dc5860>"
      ]
     },
     "metadata": {},
     "output_type": "display_data"
    }
   ],
   "source": [
    "df_train['totalincome'].hist(bins=50)"
   ]
  },
  {
   "cell_type": "code",
   "execution_count": 20,
   "metadata": {},
   "outputs": [],
   "source": [
    "import numpy as np\n",
    "import seaborn as sns\n",
    "import matplotlib.pyplot as plt\n",
    "sns.set(color_codes=True)\n",
    "\n",
    "#tips = df_train\n",
    "#sns.regplot(y=\"Credit_History\", x=\"Loan_Status\", data=tips);\n",
    "# df_train.head()"
   ]
  },
  {
   "cell_type": "code",
   "execution_count": 21,
   "metadata": {},
   "outputs": [
    {
     "name": "stdout",
     "output_type": "stream",
     "text": [
      "          Credit_History   pay_back  Education  Married  Dependents  Gender  \\\n",
      "Loan_ID                                                                       \n",
      "LP001002               1  21.884083          0        0           0       1   \n",
      "LP001003               1  21.014612          0        1           1       1   \n",
      "LP001005               1  22.000000          0        1           0       1   \n",
      "LP001006               1  24.286582          1        1           0       1   \n",
      "LP001008               1  23.500000          0        0           0       1   \n",
      "LP001011               1  27.774888          0        1           2       1   \n",
      "LP001013               1  24.681736          1        1           0       1   \n",
      "LP001014               0  28.519856          0        1           3       1   \n",
      "LP001018               1  30.368764          0        1           2       1   \n",
      "LP001020               1  14.658322          0        1           1       1   \n",
      "\n",
      "          Self_Employed  totalincome  totalincome_log  LoanAmount  \\\n",
      "Loan_ID                                                             \n",
      "LP001002              0       5849.0         8.674026    128000.0   \n",
      "LP001003              0       6091.0         8.714568    128000.0   \n",
      "LP001005              1       3000.0         8.006368     66000.0   \n",
      "LP001006              0       4941.0         8.505323    120000.0   \n",
      "LP001008              0       6000.0         8.699515    141000.0   \n",
      "LP001011              1       9613.0         9.170872    267000.0   \n",
      "LP001013              0       3849.0         8.255569     95000.0   \n",
      "LP001014              0       5540.0         8.619750    158000.0   \n",
      "LP001018              0       5532.0         8.618305    168000.0   \n",
      "LP001020              0      23809.0        10.077819    349000.0   \n",
      "\n",
      "          loanamt_log  Loan_Amount_Term  Property_Area  \n",
      "Loan_ID                                                 \n",
      "LP001002     4.852030             360.0              2  \n",
      "LP001003     4.852030             360.0              0  \n",
      "LP001005     4.189655             360.0              2  \n",
      "LP001006     4.787492             360.0              2  \n",
      "LP001008     4.948760             360.0              2  \n",
      "LP001011     5.587249             360.0              2  \n",
      "LP001013     4.553877             360.0              2  \n",
      "LP001014     5.062595             360.0              1  \n",
      "LP001018     5.123964             360.0              2  \n",
      "LP001020     5.855072             360.0              1  \n"
     ]
    }
   ],
   "source": [
    "col_features = [\n",
    "    'Credit_History',\n",
    "    'pay_back',\n",
    "    'Education',\n",
    "    'Married',\n",
    "    'Dependents',\n",
    "    'Gender',\n",
    "    'Self_Employed',\n",
    "    'totalincome',\n",
    "    'totalincome_log',\n",
    "    'LoanAmount',\n",
    "    'loanamt_log',\n",
    "    'Loan_Amount_Term',\n",
    "    'Property_Area'\n",
    "]\n",
    "X_train_features = df_train[col_features]\n",
    "X_assignment_features = df_solution[col_features]\n",
    "y_train_target = df_train['Loan_Status']\n",
    "print(X_train_features[:10])\n"
   ]
  },
  {
   "cell_type": "code",
   "execution_count": 22,
   "metadata": {},
   "outputs": [
    {
     "name": "stdout",
     "output_type": "stream",
     "text": [
      "Loan_ID\n",
      "LP001002    1\n",
      "LP001003    0\n",
      "LP001005    1\n",
      "LP001006    1\n",
      "LP001008    1\n",
      "LP001011    1\n",
      "LP001013    1\n",
      "LP001014    0\n",
      "LP001018    1\n",
      "LP001020    0\n",
      "Name: Loan_Status, dtype: int8\n"
     ]
    }
   ],
   "source": [
    "print(y_train_target[:10])"
   ]
  },
  {
   "cell_type": "code",
   "execution_count": 23,
   "metadata": {},
   "outputs": [],
   "source": [
    "from sklearn.model_selection import cross_val_score\n",
    "from sklearn import metrics\n",
    "\n",
    "def floatToBool(x):\n",
    "    if float(x)<0.5:\n",
    "        return 'N'\n",
    "    else:\n",
    "        return 'Y'\n",
    "\n",
    "def trainAndPredictAndSave(X, y, estimator, name, X_assignement):\n",
    "    estimator.fit(X, y)\n",
    "    yPred = estimator.predict(X)\n",
    "    \n",
    "    # print cross-validation\n",
    "    crossVal = cross_val_score(estimator, X, y, cv=10, scoring='accuracy').mean()\n",
    "    print(name + ', crossVal: ' + str(crossVal))\n",
    "    \n",
    "    # print accuracy\n",
    "    accuracy = metrics.accuracy_score(yPred, y)\n",
    "    print(name + ', accuracy : ' +  str(accuracy))\n",
    "\n",
    "    # print error\n",
    "    error = np.sqrt(metrics.mean_squared_error(y, yPred))\n",
    "    print(name + ', error : ' + str(error))\n",
    "    \n",
    "    # save...\n",
    "    y_assignement = estimator.predict(X_assignement)\n",
    "    \n",
    "    # convert numpy array to panda dataframe\n",
    "    solution_df = pd.DataFrame(({'Loan_ID':X_assignement.index,\n",
    "                             'Loan_Status':y_assignement}))\n",
    "\n",
    "    solution_df['Loan_Status'] = solution_df['Loan_Status'].map(floatToBool)\n",
    "    filename = 'solution_'+name+'.csv'\n",
    "    print(name + ', Saving: ' + filename)\n",
    "    solution_df.to_csv(path_or_buf=filename, index=False)\n",
    "\n"
   ]
  },
  {
   "cell_type": "code",
   "execution_count": 24,
   "metadata": {},
   "outputs": [
    {
     "name": "stdout",
     "output_type": "stream",
     "text": [
      "gb05, crossVal: 0.786703096539\n",
      "gb05, accuracy : 0.934853420195\n",
      "gb05, error : 0.255238280445\n",
      "gb05, Saving: solution_gb05.csv\n"
     ]
    }
   ],
   "source": [
    "from sklearn.ensemble import GradientBoostingClassifier\n",
    "from sklearn.ensemble import RandomForestClassifier\n",
    "from sklearn.neighbors import KNeighborsClassifier\n",
    "from sklearn.tree import DecisionTreeClassifier\n",
    "from sklearn.neural_network import MLPClassifier\n",
    "\n",
    "# classifier9\n",
    "classifier_gb1 = GradientBoostingClassifier(random_state=5, loss='deviance', learning_rate=0.0498, n_estimators=500, max_features='sqrt', min_samples_split=4, max_depth=3)\n",
    "classifier_gb2 = GradientBoostingClassifier(random_state=5, loss='deviance', learning_rate=0.0499, n_estimators=500, max_features='sqrt', min_samples_split=4, max_depth=3)\n",
    "classifier_gb3 = GradientBoostingClassifier(random_state=1, loss='deviance', learning_rate=0.05, n_estimators=500, max_features='sqrt', min_samples_split=4, max_depth=3)\n",
    "classifier_gb4 = GradientBoostingClassifier(random_state=5, loss='deviance', learning_rate=0.0501, n_estimators=500, max_features='sqrt', min_samples_split=4, max_depth=3)\n",
    "classifier_gb5 = GradientBoostingClassifier(random_state=5, loss='deviance', learning_rate=0.0502, n_estimators=500, max_features='sqrt', min_samples_split=4, max_depth=3)\n",
    "#classifier_rf = RandomForestClassifier(n_estimators=25, min_samples_split=25, max_depth=7, max_features=1)\n",
    "#classifier_gb15 = GradientBoostingClassifier(loss='deviance', learning_rate=0.15, n_estimators=500, max_features='sqrt', min_samples_split=4, max_depth=3)\n",
    "#classifier_gb35 = GradientBoostingClassifier(loss='deviance', learning_rate=0.35, n_estimators=500, max_features='sqrt', min_samples_split=4, max_depth=3)\n",
    "\n",
    "# train, predict and save\n",
    "#trainAndPredictAndSave(X_train_features, y_train_target, classifier_gb1, \"gb04998\", X_assignment_features)\n",
    "#trainAndPredictAndSave(X_train_features, y_train_target, classifier_gb2, \"gb04999\", X_assignment_features)\n",
    "trainAndPredictAndSave(X_train_features, y_train_target, classifier_gb3, \"gb05\", X_assignment_features)\n",
    "#trainAndPredictAndSave(X_train_features, y_train_target, classifier_gb4, \"gb0501\", X_assignment_features)\n",
    "#trainAndPredictAndSave(X_train_features, y_train_target, classifier_gb5, \"gb0502\", X_assignment_features)\n",
    "#trainAndPredictAndSave(X_train_features, y_train_target, classifier_rf, \"rf\", X_assignment_features)\n",
    "# trainAndPredictAndSave(X_train_features, y_train_target, classifier_gb15, \"gb15\", X_assignment_features)\n",
    "#trainAndPredictAndSave(X_train_features, y_train_target, classifier_gb35, \"gb35\", X_assignment_features"
   ]
  },
  {
   "cell_type": "code",
   "execution_count": 25,
   "metadata": {},
   "outputs": [],
   "source": [
    "#col_features_reduced = [\n",
    "#    'Credit_History', \n",
    "#    'pay_back', \n",
    "    #'totalincome',\n",
    "#    'totalincome_log',\n",
    "    # 'LoanAmount',\n",
    "#    'loanamt_log',\n",
    "#    'Dependents'\n",
    "#]\n",
    "col_features_reduced = [\n",
    "    'Credit_History', \n",
    "    'Married', \n",
    "    'Education',\n",
    "    'Gender',\n",
    "    'Self_Employed',\n",
    "    'Property_Area'\n",
    "]\n",
    "X_train_features = df_train[col_features_reduced]\n",
    "X_assignment_features = df_solution[col_features_reduced]\n",
    "\n",
    "classifier_nn20_reduced = KNeighborsClassifier(n_neighbors=20)\n",
    "classifier_nn7_reduced = KNeighborsClassifier(n_neighbors=7)\n",
    "classifier_dt_reduced = DecisionTreeClassifier(random_state=1)\n",
    "classifier_gb05_reduced = GradientBoostingClassifier(random_state=5, loss='deviance', learning_rate=0.05, n_estimators=500, max_features='sqrt', min_samples_split=4, max_depth=3)\n",
    "classifier_rf_reduced = RandomForestClassifier(n_estimators=25, min_samples_split=25, max_depth=7, max_features=1)  \n",
    "classifier_mlp_reduced = MLPClassifier(solver='lbfgs', activation='logistic', alpha=1e-3, hidden_layer_sizes=(30,30,30), random_state=1)\n",
    "\n",
    "\n",
    "# train, predict and save\n",
    "#trainAndPredictAndSave(X_train_features, y_train_target, classifier_nn20_reduced, \"nn20_red\", X_assignment_features)\n",
    "#trainAndPredictAndSave(X_train_features, y_train_target, classifier_nn7_reduced, \"nn7_red\", X_assignment_features)\n",
    "#trainAndPredictAndSave(X_train_features, y_train_target, classifier_dt_reduced, \"dt_red\", X_assignment_features)\n",
    "#trainAndPredictAndSave(X_train_features, y_train_target, classifier_gb05_reduced, \"gb05_red\", X_assignment_features)\n",
    "#trainAndPredictAndSave(X_train_features, y_train_target, classifier_rf_reduced, \"rf_red\", X_assignment_features)\n",
    "#trainAndPredictAndSave(X_train_features, y_train_target, classifier_mlp_reduced, \"mlp_red\", X_assignment_features)\n"
   ]
  },
  {
   "cell_type": "code",
   "execution_count": null,
   "metadata": {},
   "outputs": [],
   "source": []
  }
 ],
 "metadata": {
  "kernelspec": {
   "display_name": "Python 3",
   "language": "python",
   "name": "python3"
  },
  "language_info": {
   "codemirror_mode": {
    "name": "ipython",
    "version": 3
   },
   "file_extension": ".py",
   "mimetype": "text/x-python",
   "name": "python",
   "nbconvert_exporter": "python",
   "pygments_lexer": "ipython3",
   "version": "3.6.3"
  }
 },
 "nbformat": 4,
 "nbformat_minor": 2
}
